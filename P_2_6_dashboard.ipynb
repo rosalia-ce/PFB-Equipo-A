{
 "cells": [
  {
   "cell_type": "code",
   "execution_count": 1,
   "id": "774483cc-e84f-4059-87dd-07cf223e32ea",
   "metadata": {},
   "outputs": [
    {
     "data": {
      "text/plain": [
       "'\\nRealizar un dashboard usando plotly que muestre algunas de las siguientes características para una o más acciones: \\n○ Precios Históricos (Time Series With Range Slider)\\n○ Balance General \\n○ Estado de resultados \\n○ Medias móviles \\n○ Relative Strength Index (RSI)\\n\\n\\nDashboard interactivo creado con Plotly y Dash:\\nIncluye los precios históricos con un rango deslizante (range slider), medias móviles, y el RSI \\n'"
      ]
     },
     "execution_count": 1,
     "metadata": {},
     "output_type": "execute_result"
    }
   ],
   "source": [
    "\"\"\"\n",
    "Realizar un dashboard usando plotly que muestre algunas de las siguientes características para una o más acciones: \n",
    "○ Precios Históricos (Time Series With Range Slider)\n",
    "○ Balance General \n",
    "○ Estado de resultados \n",
    "○ Medias móviles \n",
    "○ Relative Strength Index (RSI)\n",
    "\n",
    "\n",
    "Dashboard interactivo creado con Plotly y Dash:\n",
    "Incluye los precios históricos con un rango deslizante (range slider), medias móviles, y el RSI \n",
    "\"\"\""
   ]
  },
  {
   "cell_type": "code",
   "execution_count": 2,
   "id": "19f1d0eb-c6c9-470d-b13e-638bf92e34a0",
   "metadata": {},
   "outputs": [],
   "source": [
    "#pip install pandas dash plotly yfinance"
   ]
  },
  {
   "cell_type": "code",
   "execution_count": 3,
   "id": "d619fe59-c0c6-4010-8521-e7e99c86a6f1",
   "metadata": {},
   "outputs": [],
   "source": [
    "import pandas as pd\n",
    "import numpy as np\n",
    "import dash\n",
    "from dash import Dash, html\n",
    "from dash import dcc, html\n",
    "from dash.dependencies import Input, Output\n",
    "import plotly.graph_objs as go"
   ]
  },
  {
   "cell_type": "code",
   "execution_count": 14,
   "id": "af1aced8-5941-4fef-ba0b-b8bfdef21523",
   "metadata": {},
   "outputs": [
    {
     "data": {
      "text/html": [
       "\n",
       "        <iframe\n",
       "            width=\"100%\"\n",
       "            height=\"650\"\n",
       "            src=\"http://127.0.0.1:8050/\"\n",
       "            frameborder=\"0\"\n",
       "            allowfullscreen\n",
       "            \n",
       "        ></iframe>\n",
       "        "
      ],
      "text/plain": [
       "<IPython.lib.display.IFrame at 0x1559cb5bf50>"
      ]
     },
     "metadata": {},
     "output_type": "display_data"
    }
   ],
   "source": [
    "df = pd.read_csv(\"historical_prices_20241028.csv\", parse_dates=[\"date\"])\n",
    "\n",
    "#cálculo media móvil simple (SMA) basada en los precios de cierre con una ventana de 30 días\n",
    "def calculate_moving_averages(df, window=30):\n",
    "    df[\"MA_\" + str(window)] = df[\"close\"].rolling(window=window).mean()\n",
    "\n",
    "#cálculo el RSI: es una medida que compara la magnitud de las ganancias recientes con las pérdidas recientes (a 14 días)\n",
    "def calculate_rsi(df, window=14):\n",
    "    delta = df[\"close\"].diff(1)\n",
    "    gain = (delta.where(delta > 0, 0)).rolling(window=window).mean()\n",
    "    loss = (-delta.where(delta < 0, 0)).rolling(window=window).mean()\n",
    "    rs = gain / loss\n",
    "    df[\"RSI\"] = 100 - (100 / (1 + rs))\n",
    "\n",
    "calculate_moving_averages(df, window=20)\n",
    "calculate_rsi(df)\n",
    "\n",
    "#aplicación de Dash\n",
    "app = dash.Dash(__name__)\n",
    "\n",
    "#layout del dashboard\n",
    "#define un dropdown para seleccionar el ticker de la acción, \n",
    "#un gráfico de los precios históricos con un rango deslizante\n",
    "#otro gráfico que muestra el RSI\n",
    "\n",
    "app.layout = html.Div([\n",
    "    html.H1(\"Dashboard de Precios Históricos\"),\n",
    "    \n",
    "    #dropdown selección ticker\n",
    "    dcc.Dropdown(\n",
    "        id=\"ticker-dropdown\",\n",
    "        options=[{\"label\": ticker, \"value\": ticker} for ticker in df[\"ticker\"].unique()],\n",
    "        value=df[\"ticker\"].unique()[0],\n",
    "        multi=False\n",
    "    ),\n",
    "    \n",
    "    #gráfica precios históricos con slider\n",
    "    dcc.Graph(id=\"historical-prices-graph\"),\n",
    "    \n",
    "    #gráfica de RSI\n",
    "    dcc.Graph(id=\"rsi-graph\"),\n",
    "    \n",
    "    #slider fechas\n",
    "    dcc.RangeSlider(\n",
    "        id=\"date-range-slider\",\n",
    "        min=0,\n",
    "        max=len(df[\"date\"])-1,\n",
    "        value=[0, len(df[\"date\"])-1],\n",
    "        marks={i: str(date)[:10] for i, date in enumerate(df[\"date\"].dt.date.unique())},\n",
    "        step=1\n",
    "    )\n",
    "])\n",
    "\n",
    "#callback permite actualizar los gráficos cada vez que cambie el ticker o el rango de fechas seleccionado\n",
    "@app.callback(\n",
    "    [Output(\"historical-prices-graph\", \"figure\"),\n",
    "     Output(\"rsi-graph\", \"figure\")],\n",
    "    [Input(\"ticker-dropdown\", \"value\"),\n",
    "     Input(\"date-range-slider\", \"value\")]\n",
    ")\n",
    "def update_graphs(selected_ticker, date_range):\n",
    "    #filtro ticker seleccionado\n",
    "    df_filtered = df[df[\"ticker\"] == selected_ticker]\n",
    "    \n",
    "    #filtro de fechas\n",
    "    df_filtered = df_filtered.iloc[date_range[0]:date_range[1]]\n",
    "\n",
    "    #gráfica de precios históricos\n",
    "    fig_prices = go.Figure()\n",
    "    fig_prices.add_trace(go.Scatter(\n",
    "        x=df_filtered[\"date\"],\n",
    "        y=df_filtered[\"close\"],\n",
    "        mode=\"lines\",\n",
    "        name=\"Precio de Cierre\"\n",
    "    ))\n",
    "    fig_prices.add_trace(go.Scatter(\n",
    "        x=df_filtered[\"date\"],\n",
    "        y=df_filtered[\"MA_20\"],\n",
    "        mode=\"lines\",\n",
    "        name=\"Media Móvil 30 días\",\n",
    "        line=dict(dash=\"dash\")\n",
    "    ))\n",
    "    fig_prices.update_layout(\n",
    "        title=f'Precios Históricos para {selected_ticker}',\n",
    "        xaxis_title=\"Fecha\",\n",
    "        yaxis_title=\"Precio de Cierre\",\n",
    "        xaxis_rangeslider_visible=True\n",
    "    )\n",
    "    \n",
    "    #gráfica de RSI\n",
    "    fig_rsi = go.Figure()\n",
    "    fig_rsi.add_trace(go.Scatter(\n",
    "        x=df_filtered[\"date\"],\n",
    "        y=df_filtered[\"RSI\"],\n",
    "        mode=\"lines\",\n",
    "        name=\"RSI\"\n",
    "    ))\n",
    "    fig_rsi.update_layout(\n",
    "        title=f\"RSI para {selected_ticker}\",\n",
    "        xaxis_title=\"Fecha\",\n",
    "        yaxis_title=\"RSI\",\n",
    "        yaxis_range=[0, 100]\n",
    "    )\n",
    "    \n",
    "    return fig_prices, fig_rsi\n",
    "\n",
    "#aplicación\n",
    "if __name__ == \"__main__\":\n",
    "    app.run_server(debug=True)\n"
   ]
  },
  {
   "cell_type": "code",
   "execution_count": null,
   "id": "90cefa34-c795-4464-ae5a-62d2a4de842b",
   "metadata": {},
   "outputs": [],
   "source": []
  },
  {
   "cell_type": "code",
   "execution_count": null,
   "id": "c273df47-6a40-4d77-b6c8-96a1c2fd8561",
   "metadata": {},
   "outputs": [],
   "source": []
  },
  {
   "cell_type": "code",
   "execution_count": null,
   "id": "ae2df5b8-db27-483c-8b2a-6d0a481a8ee6",
   "metadata": {},
   "outputs": [],
   "source": []
  }
 ],
 "metadata": {
  "kernelspec": {
   "display_name": "Python 3 (ipykernel)",
   "language": "python",
   "name": "python3"
  },
  "language_info": {
   "codemirror_mode": {
    "name": "ipython",
    "version": 3
   },
   "file_extension": ".py",
   "mimetype": "text/x-python",
   "name": "python",
   "nbconvert_exporter": "python",
   "pygments_lexer": "ipython3",
   "version": "3.11.7"
  }
 },
 "nbformat": 4,
 "nbformat_minor": 5
}
