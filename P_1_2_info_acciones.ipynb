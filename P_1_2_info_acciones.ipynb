{
 "cells": [
  {
   "cell_type": "code",
   "execution_count": 1,
   "id": "af1aced8-5941-4fef-ba0b-b8bfdef21523",
   "metadata": {},
   "outputs": [],
   "source": [
    "#pip install yfinance\n",
    "#pip install finplot\n",
    "#pip install matplotlib"
   ]
  },
  {
   "cell_type": "code",
   "execution_count": 2,
   "id": "0515473c-b175-4e4b-bfdd-c8d97d7302bd",
   "metadata": {},
   "outputs": [],
   "source": [
    "import yfinance as yf\n",
    "import pandas as pd"
   ]
  },
  {
   "cell_type": "code",
   "execution_count": 3,
   "id": "2d774414-716d-4cdf-9936-eab1bb415c31",
   "metadata": {},
   "outputs": [
    {
     "name": "stdout",
     "output_type": "stream",
     "text": [
      "- ('address1', '2788 San Tomas Expressway')\n",
      "- ('city', 'Santa Clara')\n",
      "- ('state', 'CA')\n",
      "- ('zip', '95051')\n",
      "- ('country', 'United States')\n",
      "- ('phone', '408 486 2000')\n",
      "- ('website', 'https://www.nvidia.com')\n",
      "- ('industry', 'Semiconductors')\n",
      "- ('industryKey', 'semiconductors')\n",
      "- ('industryDisp', 'Semiconductors')\n",
      "- ('sector', 'Technology')\n",
      "- ('sectorKey', 'technology')\n",
      "- ('sectorDisp', 'Technology')\n",
      "- ('longBusinessSummary', \"NVIDIA Corporation provides graphics and compute and networking solutions in the United States, Taiwan, China, Hong Kong, and internationally. The Graphics segment offers GeForce GPUs for gaming and PCs, the GeForce NOW game streaming service and related infrastructure, and solutions for gaming platforms; Quadro/NVIDIA RTX GPUs for enterprise workstation graphics; virtual GPU or vGPU software for cloud-based visual and virtual computing; automotive platforms for infotainment systems; and Omniverse software for building and operating metaverse and 3D internet applications. The Compute & Networking segment comprises Data Center computing platforms and end-to-end networking platforms, including Quantum for InfiniBand and Spectrum for Ethernet; NVIDIA DRIVE automated-driving platform and automotive development agreements; Jetson robotics and other embedded platforms; NVIDIA AI Enterprise and other software; and DGX Cloud software and services. The company's products are used in gaming, professional visualization, data center, and automotive markets. It sells its products to original equipment manufacturers, original device manufacturers, system integrators and distributors, independent software vendors, cloud service providers, consumer internet companies, add-in board manufacturers, distributors, automotive manufacturers and tier-1 automotive suppliers, and other ecosystem participants. NVIDIA Corporation was incorporated in 1993 and is headquartered in Santa Clara, California.\")\n",
      "- ('fullTimeEmployees', 29600)\n",
      "- ('companyOfficers', [{'maxAge': 1, 'name': 'Mr. Jen-Hsun  Huang', 'age': 60, 'title': 'Co-Founder, CEO, President & Director', 'yearBorn': 1963, 'fiscalYear': 2024, 'totalPay': 7491487, 'exercisedValue': 217327152, 'unexercisedValue': 0}, {'maxAge': 1, 'name': 'Ms. Colette M. Kress', 'age': 56, 'title': 'Executive VP & CFO', 'yearBorn': 1967, 'fiscalYear': 2024, 'totalPay': 1510765, 'exercisedValue': 0, 'unexercisedValue': 0}, {'maxAge': 1, 'name': 'Ms. Debora  Shoquist', 'age': 68, 'title': 'Executive Vice President of Operations', 'yearBorn': 1955, 'fiscalYear': 2024, 'totalPay': 1371266, 'exercisedValue': 0, 'unexercisedValue': 0}, {'maxAge': 1, 'name': 'Mr. Timothy S. Teter', 'age': 56, 'title': 'Executive VP, General Counsel & Secretary', 'yearBorn': 1967, 'fiscalYear': 2024, 'totalPay': 1360939, 'exercisedValue': 0, 'unexercisedValue': 0}, {'maxAge': 1, 'name': 'Mr. Ajay K. Puri', 'age': 68, 'title': 'Executive Vice President of Worldwide Field Operations', 'yearBorn': 1955, 'fiscalYear': 2024, 'totalPay': 2295097, 'exercisedValue': 0, 'unexercisedValue': 0}, {'maxAge': 1, 'name': 'Mr. Chris A. Malachowsky', 'title': 'Co-Founder', 'fiscalYear': 2024, 'totalPay': 320000, 'exercisedValue': 0, 'unexercisedValue': 0}, {'maxAge': 1, 'name': 'Mr. Donald F. Robertson Jr.', 'age': 54, 'title': 'VP & Chief Accounting Officer', 'yearBorn': 1969, 'fiscalYear': 2024, 'exercisedValue': 0, 'unexercisedValue': 0}, {'maxAge': 1, 'name': 'Prof. William J. Dally Ph.D.', 'age': 62, 'title': 'Chief Scientist & Senior VP of Research', 'yearBorn': 1961, 'fiscalYear': 2024, 'exercisedValue': 0, 'unexercisedValue': 0}, {'maxAge': 1, 'name': 'Ms. Mylene  Mangalindan', 'title': 'VP of Corporate Communications', 'fiscalYear': 2024, 'exercisedValue': 0, 'unexercisedValue': 0}, {'maxAge': 1, 'name': 'Mr. Tommy  Lee', 'title': 'Senior Vice President of Systems Engineering & Application', 'fiscalYear': 2024, 'exercisedValue': 0, 'unexercisedValue': 0}])\n",
      "- ('auditRisk', 7)\n",
      "- ('boardRisk', 10)\n",
      "- ('compensationRisk', 5)\n",
      "- ('shareHolderRightsRisk', 6)\n",
      "- ('overallRisk', 8)\n",
      "- ('governanceEpochDate', 1727740800)\n",
      "- ('compensationAsOfEpochDate', 1735603200)\n",
      "- ('irWebsite', 'http://phx.corporate-ir.net/phoenix.zhtml?c=116466&p=irol-IRHome')\n",
      "- ('maxAge', 86400)\n",
      "- ('priceHint', 2)\n",
      "- ('previousClose', 131.6)\n",
      "- ('open', 133.955)\n",
      "- ('dayLow', 131.58)\n",
      "- ('dayHigh', 134.78)\n",
      "- ('regularMarketPreviousClose', 131.6)\n",
      "- ('regularMarketOpen', 133.955)\n",
      "- ('regularMarketDayLow', 131.58)\n",
      "- ('regularMarketDayHigh', 134.78)\n",
      "- ('dividendRate', 0.04)\n",
      "- ('dividendYield', 0.00029999999)\n",
      "- ('exDividendDate', 1726099200)\n",
      "- ('payoutRatio', 0.010299999)\n",
      "- ('fiveYearAvgDividendYield', 0.1)\n",
      "- ('beta', 1.669)\n",
      "- ('trailingPE', 62.93422)\n",
      "- ('forwardPE', 33.09874)\n",
      "- ('volume', 131202829)\n",
      "- ('regularMarketVolume', 131202829)\n",
      "- ('averageVolume', 327682451)\n",
      "- ('averageVolume10days', 264233160)\n",
      "- ('averageDailyVolume10Day', 264233160)\n",
      "- ('bid', 134.0)\n",
      "- ('ask', 134.03)\n",
      "- ('bidSize', 200)\n",
      "- ('askSize', 100)\n",
      "- ('marketCap', 3288243896320)\n",
      "- ('fiftyTwoWeekLow', 39.23)\n",
      "- ('fiftyTwoWeekHigh', 140.76)\n",
      "- ('priceToSalesTrailing12Months', 34.143353)\n",
      "- ('fiftyDayAverage', 119.5402)\n",
      "- ('twoHundredDayAverage', 99.08184)\n",
      "- ('trailingAnnualDividendRate', 0.022)\n",
      "- ('trailingAnnualDividendYield', 0.00016717325)\n",
      "- ('currency', 'USD')\n",
      "- ('enterpriseValue', 3203362979840)\n",
      "- ('profitMargins', 0.55041003)\n",
      "- ('floatShares', 23541441000)\n",
      "- ('sharesOutstanding', 24529999872)\n",
      "- ('sharesShort', 251090067)\n",
      "- ('sharesShortPriorMonth', 260873913)\n",
      "- ('sharesShortPreviousMonthDate', 1724976000)\n",
      "- ('dateShortInterest', 1727654400)\n",
      "- ('sharesPercentSharesOut', 0.010199999)\n",
      "- ('heldPercentInsiders', 0.042930003)\n",
      "- ('heldPercentInstitutions', 0.66844004)\n",
      "- ('shortRatio', 0.8)\n",
      "- ('shortPercentOfFloat', 0.0107)\n",
      "- ('impliedSharesOutstanding', 24533600256)\n",
      "- ('bookValue', 2.368)\n",
      "- ('priceToBook', 56.60891)\n",
      "- ('lastFiscalYearEnd', 1706400000)\n",
      "- ('nextFiscalYearEnd', 1738022400)\n",
      "- ('mostRecentQuarter', 1722124800)\n",
      "- ('earningsQuarterlyGrowth', 1.682)\n",
      "- ('netIncomeToCommon', 53007998976)\n",
      "- ('trailingEps', 2.13)\n",
      "- ('forwardEps', 4.05)\n",
      "- ('pegRatio', 0.88)\n",
      "- ('lastSplitFactor', '10:1')\n",
      "- ('lastSplitDate', 1717977600)\n",
      "- ('enterpriseToRevenue', 33.262)\n",
      "- ('enterpriseToEbitda', 52.356)\n",
      "- ('52WeekChange', 2.118779)\n",
      "- ('SandP52WeekChange', 0.3478098)\n",
      "- ('lastDividendValue', 0.01)\n",
      "- ('lastDividendDate', 1726099200)\n",
      "- ('exchange', 'NMS')\n",
      "- ('quoteType', 'EQUITY')\n",
      "- ('symbol', 'NVDA')\n",
      "- ('underlyingSymbol', 'NVDA')\n",
      "- ('shortName', 'NVIDIA Corporation')\n",
      "- ('longName', 'NVIDIA Corporation')\n",
      "- ('firstTradeDateEpochUtc', 917015400)\n",
      "- ('timeZoneFullName', 'America/New_York')\n",
      "- ('timeZoneShortName', 'EDT')\n",
      "- ('uuid', '7f5f6a07-b148-30f4-98a2-2caa3df2aed0')\n",
      "- ('messageBoardId', 'finmb_32307')\n",
      "- ('gmtOffSetMilliseconds', -14400000)\n",
      "- ('currentPrice', 134.0499)\n",
      "- ('targetHighPrice', 202.79)\n",
      "- ('targetLowPrice', 75.4)\n",
      "- ('targetMeanPrice', 148.53)\n",
      "- ('targetMedianPrice', 150.0)\n",
      "- ('recommendationMean', 1.8)\n",
      "- ('recommendationKey', 'buy')\n",
      "- ('numberOfAnalystOpinions', 50)\n",
      "- ('totalCash', 34800001024)\n",
      "- ('totalCashPerShare', 1.419)\n",
      "- ('ebitda', 61184000000)\n",
      "- ('totalDebt', 10014999552)\n",
      "- ('quickRatio', 3.503)\n",
      "- ('currentRatio', 4.269)\n",
      "- ('totalRevenue', 96307003392)\n",
      "- ('debtToEquity', 17.221)\n",
      "- ('revenuePerShare', 3.91)\n",
      "- ('returnOnAssets', 0.55258)\n",
      "- ('returnOnEquity', 1.23767)\n",
      "- ('freeCashflow', 33725874176)\n",
      "- ('operatingCashflow', 48663998464)\n",
      "- ('earningsGrowth', 1.68)\n",
      "- ('revenueGrowth', 1.224)\n",
      "- ('grossMargins', 0.75975996)\n",
      "- ('ebitdaMargins', 0.6353)\n",
      "- ('operatingMargins', 0.62057)\n",
      "- ('financialCurrency', 'USD')\n",
      "- ('trailingPegRatio', 1.0194)\n"
     ]
    }
   ],
   "source": [
    "stock = yf.Ticker(\"NVDA\")\n",
    "stock_info = stock.info\n",
    "\n",
    "for line in stock_info.items():\n",
    "    print(\"-\", line)"
   ]
  },
  {
   "cell_type": "code",
   "execution_count": 4,
   "id": "5f5cd1a4-9734-4956-acbd-40f16c908231",
   "metadata": {},
   "outputs": [
    {
     "name": "stderr",
     "output_type": "stream",
     "text": [
      "[*********************100%***********************]  1 of 1 completed\n"
     ]
    }
   ],
   "source": [
    "#datos del comportamiento de la acción desde el inicio\n",
    "df = yf.download(\"NVDA\")\n",
    "df.to_csv(\"historical_prices.csv\")"
   ]
  },
  {
   "cell_type": "code",
   "execution_count": 5,
   "id": "49f351f4-5ee8-4870-a55d-542d3e45812b",
   "metadata": {},
   "outputs": [],
   "source": [
    "#datos de cuándo y cuánto ha pagado la empresa en dividendos\n",
    "dividends = stock.dividends\n",
    "dividends.to_csv(\"dividends.csv\")"
   ]
  },
  {
   "cell_type": "code",
   "execution_count": 6,
   "id": "b76b3db2-40ad-4943-a9d9-67a0cef8154f",
   "metadata": {},
   "outputs": [],
   "source": [
    "#los splits afectan a cómo se interpreta el precio histórico de las acciones\n",
    "splits = stock.splits\n",
    "splits.to_csv(\"splits.csv\")"
   ]
  },
  {
   "cell_type": "code",
   "execution_count": 7,
   "id": "f53577de-d40c-4a05-ba4b-fa9b60642d62",
   "metadata": {},
   "outputs": [],
   "source": [
    "#datos de la estructura financiera de la empresa\n",
    "balance_sheet = stock.balance_sheet\n",
    "balance_sheet.to_csv(\"balance_sheet.csv\")"
   ]
  },
  {
   "cell_type": "code",
   "execution_count": 8,
   "id": "d188e330-c4ab-43cf-bae1-0f9b5b5413ce",
   "metadata": {},
   "outputs": [],
   "source": [
    "#estado de resultados para entender la rentabilidad de la empresa a lo largo del tiempo\n",
    "income_statement = stock.financials\n",
    "income_statement.to_csv(\"income_statement.csv\")"
   ]
  },
  {
   "cell_type": "code",
   "execution_count": 9,
   "id": "9f721ca4-ed4f-4443-a152-9b33142dc3e2",
   "metadata": {},
   "outputs": [],
   "source": [
    "#muestra cómo se genera y usa el efectivo, sirve para medir su salud financiera\n",
    "cash_flow = stock.cashflow\n",
    "cash_flow.to_csv(\"cash_flow.csv\")"
   ]
  },
  {
   "cell_type": "code",
   "execution_count": 10,
   "id": "2ffb1917-92b3-466f-871b-6c1ab3a0df1d",
   "metadata": {},
   "outputs": [],
   "source": [
    "#recomendaciones de analistas (confianza en la acción)\n",
    "recommendations = stock.recommendations\n",
    "recommendations.to_csv(\"recommendations.csv\")"
   ]
  },
  {
   "cell_type": "code",
   "execution_count": 11,
   "id": "987f08d1-783a-44cd-8d92-7917934013d8",
   "metadata": {},
   "outputs": [],
   "source": [
    "#instituciones que tienen participaciones\n",
    "institutional_holders = stock.institutional_holders\n",
    "institutional_holders.to_csv(\"institutional_holders.csv\")"
   ]
  },
  {
   "cell_type": "code",
   "execution_count": 13,
   "id": "d3b99787-166e-466b-a84d-f3aff3f008a4",
   "metadata": {},
   "outputs": [],
   "source": [
    "#cambios en las calificaciones que los analistas financieros hacen sobre una acción\n",
    "upgrades_downgrades = stock.upgrades_downgrades\n",
    "upgrades_downgrades.to_csv(\"upgrades_downgrades.csv\")"
   ]
  }
 ],
 "metadata": {
  "kernelspec": {
   "display_name": "Python 3 (ipykernel)",
   "language": "python",
   "name": "python3"
  },
  "language_info": {
   "codemirror_mode": {
    "name": "ipython",
    "version": 3
   },
   "file_extension": ".py",
   "mimetype": "text/x-python",
   "name": "python",
   "nbconvert_exporter": "python",
   "pygments_lexer": "ipython3",
   "version": "3.11.7"
  }
 },
 "nbformat": 4,
 "nbformat_minor": 5
}
